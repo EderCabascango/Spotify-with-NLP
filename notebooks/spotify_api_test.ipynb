{
 "cells": [
  {
   "cell_type": "code",
   "execution_count": null,
   "id": "33a1fad4",
   "metadata": {},
   "outputs": [],
   "source": [
    "# ==========================================\n",
    "# Spotify API Exploration - Setup Log\n",
    "# Author: Eder Cabascango\n",
    "# Date: 2025-10-30\n",
    "# ==========================================\n",
    "\n",
    "\"\"\"\n",
    "Pequeño registro del proceso de conexión a la API de Spotify\n",
    "para el proyecto Mood vs Música 🎧\n",
    "\"\"\"\n",
    "\n",
    "from dotenv import load_dotenv\n",
    "import os\n",
    "import spotipy\n",
    "from spotipy.oauth2 import SpotifyOAuth\n",
    "import pandas as pd\n",
    "\n",
    "# Cargar credenciales\n",
    "load_dotenv(dotenv_path=r\"C:\\Users\\wladi\\Desktop\\Data Science\\Portafolio\\mood_music\\.env\", override=True)\n",
    "\n",
    "sp = spotipy.Spotify(auth_manager=SpotifyOAuth(\n",
    "    client_id=os.getenv(\"SPOTIPY_CLIENT_ID\"),\n",
    "    client_secret=os.getenv(\"SPOTIPY_CLIENT_SECRET\"),\n",
    "    redirect_uri=os.getenv(\"SPOTIPY_REDIRECT_URI\"),\n",
    "    scope=\"user-read-recently-played,user-top-read\"\n",
    "))\n",
    "\n",
    "print(\"✅ Autenticación exitosa\")\n",
    "\n",
    "# Prueba simple: obtener mi usuario y canciones recientes\n",
    "user = sp.current_user()[\"display_name\"]\n",
    "recent = sp.current_user_recently_played(limit=5)\n",
    "\n",
    "print(f\"Usuario autenticado: {user}\")\n",
    "for i, item in enumerate(recent[\"items\"], 1):\n",
    "    print(f\"{i}. {item['track']['name']} — {item['track']['artists'][0]['name']}\")\n",
    "\n",
    "print(\"\\n✅ Conexión y extracción de datos comprobada correctamente.\")\n"
   ]
  }
 ],
 "metadata": {
  "language_info": {
   "name": "python"
  }
 },
 "nbformat": 4,
 "nbformat_minor": 5
}
