{
 "cells": [
  {
   "cell_type": "code",
   "execution_count": 1,
   "id": "b0b93562",
   "metadata": {},
   "outputs": [
    {
     "name": "stdout",
     "output_type": "stream",
     "text": [
      "✅ Python activo: c:\\Users\\wladi\\Desktop\\Data Science\\Portafolio\\mood_music\\.venv\\Scripts\\python.exe\n"
     ]
    }
   ],
   "source": [
    "import sys\n",
    "print(\"✅ Python activo:\", sys.executable)"
   ]
  },
  {
   "cell_type": "code",
   "execution_count": 2,
   "id": "5981de15",
   "metadata": {},
   "outputs": [
    {
     "name": "stdout",
     "output_type": "stream",
     "text": [
      "CLIENT ID: a67980b418c04ab88af01012e40c204e\n",
      "SECRET: 901d81********\n",
      "URI: http://127.0.0.1:8080\n"
     ]
    }
   ],
   "source": [
    "from dotenv import load_dotenv\n",
    "import os\n",
    "\n",
    "# Escapa los espacios usando una raw string (r\"\")\n",
    "env_path = r\"C:\\Users\\wladi\\Desktop\\Data Science\\Portafolio\\mood_music\\.env\"\n",
    "\n",
    "# Cargar el archivo .env desde la ruta absoluta\n",
    "load_dotenv(dotenv_path=env_path, override=True)\n",
    "\n",
    "# Verificar valores cargados\n",
    "print(\"CLIENT ID:\", os.getenv(\"SPOTIPY_CLIENT_ID\"))\n",
    "print(\"SECRET:\", os.getenv(\"SPOTIPY_CLIENT_SECRET\")[:6] + \"********\")\n",
    "print(\"URI:\", os.getenv(\"SPOTIPY_REDIRECT_URI\"))"
   ]
  },
  {
   "cell_type": "code",
   "execution_count": 6,
   "id": "43812743",
   "metadata": {},
   "outputs": [
    {
     "name": "stdout",
     "output_type": "stream",
     "text": [
      "✅ Autenticado como: zerow9\n"
     ]
    },
    {
     "name": "stderr",
     "output_type": "stream",
     "text": [
      "HTTP Error for GET to https://api.spotify.com/v1/audio-features/?ids=569xAmXCkpM3IsEOiG4hWe with Params: {} returned 403 due to None\n"
     ]
    },
    {
     "name": "stdout",
     "output_type": "stream",
     "text": [
      "🎧 Canciones recientes encontradas: 50\n"
     ]
    },
    {
     "name": "stderr",
     "output_type": "stream",
     "text": [
      "HTTP Error for GET to https://api.spotify.com/v1/audio-features/?ids=6e2xraDTaq3NyfngeuwsdX with Params: {} returned 403 due to None\n",
      "HTTP Error for GET to https://api.spotify.com/v1/audio-features/?ids=48vdWqCEBHtxZOEu1McS76 with Params: {} returned 403 due to None\n",
      "HTTP Error for GET to https://api.spotify.com/v1/audio-features/?ids=2JLMWMR9Q3HCIFADdPpGiW with Params: {} returned 403 due to None\n",
      "HTTP Error for GET to https://api.spotify.com/v1/audio-features/?ids=2DjPGjQZrWdVHx2Bh9uvcL with Params: {} returned 403 due to None\n",
      "HTTP Error for GET to https://api.spotify.com/v1/audio-features/?ids=3Y2IOJTjVsOuzvHsllpQDW with Params: {} returned 403 due to None\n",
      "HTTP Error for GET to https://api.spotify.com/v1/audio-features/?ids=0Zj3TMvZlJoqFgqyDkuTGr with Params: {} returned 403 due to None\n",
      "HTTP Error for GET to https://api.spotify.com/v1/audio-features/?ids=5MUy9g1yOErICSjY5Wro5x with Params: {} returned 403 due to None\n",
      "HTTP Error for GET to https://api.spotify.com/v1/audio-features/?ids=6EjUn5quLcTVFBUGLGwGwA with Params: {} returned 403 due to None\n",
      "HTTP Error for GET to https://api.spotify.com/v1/audio-features/?ids=7g57YDkjFrNecn0sbXN3GI with Params: {} returned 403 due to None\n",
      "HTTP Error for GET to https://api.spotify.com/v1/audio-features/?ids=3xiNRrrVROKlHrflHGNTfG with Params: {} returned 403 due to None\n",
      "HTTP Error for GET to https://api.spotify.com/v1/audio-features/?ids=3xiNRrrVROKlHrflHGNTfG with Params: {} returned 403 due to None\n",
      "HTTP Error for GET to https://api.spotify.com/v1/audio-features/?ids=4KyghCEewQOSZ4OdvQwFN3 with Params: {} returned 403 due to None\n",
      "HTTP Error for GET to https://api.spotify.com/v1/audio-features/?ids=5W8YXBz9MTIDyrpYaCg2Ky with Params: {} returned 403 due to None\n",
      "HTTP Error for GET to https://api.spotify.com/v1/audio-features/?ids=3o3WFtmGrEslB0PnrRHqAz with Params: {} returned 403 due to None\n",
      "HTTP Error for GET to https://api.spotify.com/v1/audio-features/?ids=0wmYFlVkmGVUtfcY1r0SrP with Params: {} returned 403 due to None\n",
      "HTTP Error for GET to https://api.spotify.com/v1/audio-features/?ids=6aaPUBUFw9KEW1p1inVQv9 with Params: {} returned 403 due to None\n",
      "HTTP Error for GET to https://api.spotify.com/v1/audio-features/?ids=31FDPB097i0iqut2Bb056l with Params: {} returned 403 due to None\n",
      "HTTP Error for GET to https://api.spotify.com/v1/audio-features/?ids=78Tr4OatbnIyx9cwGp5vp1 with Params: {} returned 403 due to None\n",
      "HTTP Error for GET to https://api.spotify.com/v1/audio-features/?ids=018zT8xThRbMH2QeUoMlKQ with Params: {} returned 403 due to None\n",
      "HTTP Error for GET to https://api.spotify.com/v1/audio-features/?ids=512CUq2I5HagN8dtE5ekH5 with Params: {} returned 403 due to None\n",
      "HTTP Error for GET to https://api.spotify.com/v1/audio-features/?ids=512CUq2I5HagN8dtE5ekH5 with Params: {} returned 403 due to None\n",
      "HTTP Error for GET to https://api.spotify.com/v1/audio-features/?ids=31FDPB097i0iqut2Bb056l with Params: {} returned 403 due to None\n",
      "HTTP Error for GET to https://api.spotify.com/v1/audio-features/?ids=31FDPB097i0iqut2Bb056l with Params: {} returned 403 due to None\n",
      "HTTP Error for GET to https://api.spotify.com/v1/audio-features/?ids=31FDPB097i0iqut2Bb056l with Params: {} returned 403 due to None\n",
      "HTTP Error for GET to https://api.spotify.com/v1/audio-features/?ids=512CUq2I5HagN8dtE5ekH5 with Params: {} returned 403 due to None\n",
      "HTTP Error for GET to https://api.spotify.com/v1/audio-features/?ids=3xiNRrrVROKlHrflHGNTfG with Params: {} returned 403 due to None\n",
      "HTTP Error for GET to https://api.spotify.com/v1/audio-features/?ids=31FDPB097i0iqut2Bb056l with Params: {} returned 403 due to None\n",
      "HTTP Error for GET to https://api.spotify.com/v1/audio-features/?ids=31FDPB097i0iqut2Bb056l with Params: {} returned 403 due to None\n",
      "HTTP Error for GET to https://api.spotify.com/v1/audio-features/?ids=31FDPB097i0iqut2Bb056l with Params: {} returned 403 due to None\n",
      "HTTP Error for GET to https://api.spotify.com/v1/audio-features/?ids=31FDPB097i0iqut2Bb056l with Params: {} returned 403 due to None\n",
      "HTTP Error for GET to https://api.spotify.com/v1/audio-features/?ids=31FDPB097i0iqut2Bb056l with Params: {} returned 403 due to None\n",
      "HTTP Error for GET to https://api.spotify.com/v1/audio-features/?ids=31FDPB097i0iqut2Bb056l with Params: {} returned 403 due to None\n",
      "HTTP Error for GET to https://api.spotify.com/v1/audio-features/?ids=1Jf5Xbgwf1ElIbPvpjpjY0 with Params: {} returned 403 due to None\n",
      "HTTP Error for GET to https://api.spotify.com/v1/audio-features/?ids=3ZhaHTbM4UbTQr26Ae23fq with Params: {} returned 403 due to None\n",
      "HTTP Error for GET to https://api.spotify.com/v1/audio-features/?ids=3tiJUOfAEqIrLFRQgGgdoY with Params: {} returned 403 due to None\n",
      "HTTP Error for GET to https://api.spotify.com/v1/audio-features/?ids=0pe7G5eLhHL2kflrGCVR50 with Params: {} returned 403 due to None\n",
      "HTTP Error for GET to https://api.spotify.com/v1/audio-features/?ids=0Az7fBmOEQCWsCVBsSqOxG with Params: {} returned 403 due to None\n",
      "HTTP Error for GET to https://api.spotify.com/v1/audio-features/?ids=2O041Z4dOB1Ne804OsxWka with Params: {} returned 403 due to None\n",
      "HTTP Error for GET to https://api.spotify.com/v1/audio-features/?ids=7Kwy6z2ZvzIoyiXlWG0LU2 with Params: {} returned 403 due to None\n",
      "HTTP Error for GET to https://api.spotify.com/v1/audio-features/?ids=0NM3JRUlrBhKbJM2lgKesV with Params: {} returned 403 due to None\n",
      "HTTP Error for GET to https://api.spotify.com/v1/audio-features/?ids=07KK04ZbIQLr3rMk1gyB4N with Params: {} returned 403 due to None\n",
      "HTTP Error for GET to https://api.spotify.com/v1/audio-features/?ids=6A4zk4Jp4VzhVtm73JWqgX with Params: {} returned 403 due to None\n",
      "HTTP Error for GET to https://api.spotify.com/v1/audio-features/?ids=4JcyewA55SNASl3PDu2DAw with Params: {} returned 403 due to None\n",
      "HTTP Error for GET to https://api.spotify.com/v1/audio-features/?ids=15V6UK1RBKw5tYyZVnAFXN with Params: {} returned 403 due to None\n",
      "HTTP Error for GET to https://api.spotify.com/v1/audio-features/?ids=2hXGdnH89p6tCjKEqOisr7 with Params: {} returned 403 due to None\n",
      "HTTP Error for GET to https://api.spotify.com/v1/audio-features/?ids=78bvZsZlkzG6hIOfjD6vaV with Params: {} returned 403 due to None\n",
      "HTTP Error for GET to https://api.spotify.com/v1/audio-features/?ids=5yAzQwngsLsS5nGjl0G30A with Params: {} returned 403 due to None\n",
      "HTTP Error for GET to https://api.spotify.com/v1/audio-features/?ids=2G2qhrB9qJaL4Scgz9dq7x with Params: {} returned 403 due to None\n",
      "HTTP Error for GET to https://api.spotify.com/v1/audio-features/?ids=11125Eubyb0rhVzoR46Xci with Params: {} returned 403 due to None\n"
     ]
    },
    {
     "name": "stdout",
     "output_type": "stream",
     "text": [
      "⚠️ No se encontraron canciones recientes válidas. Probando con tus top tracks...\n"
     ]
    },
    {
     "name": "stderr",
     "output_type": "stream",
     "text": [
      "HTTP Error for GET to https://api.spotify.com/v1/audio-features/?ids=6aaPUBUFw9KEW1p1inVQv9 with Params: {} returned 403 due to None\n"
     ]
    },
    {
     "name": "stdout",
     "output_type": "stream",
     "text": [
      "🔥 Canciones más escuchadas encontradas: 50\n"
     ]
    },
    {
     "name": "stderr",
     "output_type": "stream",
     "text": [
      "HTTP Error for GET to https://api.spotify.com/v1/audio-features/?ids=7HKRWMTErKh56EIBeFcmdf with Params: {} returned 403 due to None\n",
      "HTTP Error for GET to https://api.spotify.com/v1/audio-features/?ids=3lCEKPzDk6VZRUZtD6OusZ with Params: {} returned 403 due to None\n",
      "HTTP Error for GET to https://api.spotify.com/v1/audio-features/?ids=4wDk9P2WSvHOsRW6SDYE7L with Params: {} returned 403 due to None\n",
      "HTTP Error for GET to https://api.spotify.com/v1/audio-features/?ids=0kqspGAduSicKRpmF0wiU5 with Params: {} returned 403 due to None\n",
      "HTTP Error for GET to https://api.spotify.com/v1/audio-features/?ids=1Hb8GNhC9n0rBKQGqd2O0M with Params: {} returned 403 due to None\n",
      "HTTP Error for GET to https://api.spotify.com/v1/audio-features/?ids=3ddJ8Vbc5tYPxq5zKRVke6 with Params: {} returned 403 due to None\n",
      "HTTP Error for GET to https://api.spotify.com/v1/audio-features/?ids=50mG9Vcem553GV9RkSVwe3 with Params: {} returned 403 due to None\n",
      "HTTP Error for GET to https://api.spotify.com/v1/audio-features/?ids=0LEIjyWS7ByxvVKEIlg4mH with Params: {} returned 403 due to None\n",
      "HTTP Error for GET to https://api.spotify.com/v1/audio-features/?ids=1PREzVLuDT6PSE9sej4wnV with Params: {} returned 403 due to None\n",
      "HTTP Error for GET to https://api.spotify.com/v1/audio-features/?ids=1BLfQ6dPXmuDrFmbdfW7Jl with Params: {} returned 403 due to None\n",
      "HTTP Error for GET to https://api.spotify.com/v1/audio-features/?ids=1x8sna2LV8WQ38NEtN5X46 with Params: {} returned 403 due to None\n",
      "HTTP Error for GET to https://api.spotify.com/v1/audio-features/?ids=6LrCRRdtlW0xkkibGDSsZj with Params: {} returned 403 due to None\n",
      "HTTP Error for GET to https://api.spotify.com/v1/audio-features/?ids=73X4fA2RX6ycvEsFvDIUs4 with Params: {} returned 403 due to None\n",
      "HTTP Error for GET to https://api.spotify.com/v1/audio-features/?ids=2KanmpA3AMVY5YNw7bii1o with Params: {} returned 403 due to None\n",
      "HTTP Error for GET to https://api.spotify.com/v1/audio-features/?ids=0snQkGI5qnAmohLE7jTsTn with Params: {} returned 403 due to None\n",
      "HTTP Error for GET to https://api.spotify.com/v1/audio-features/?ids=385kaVyHLeUqYXHl7E7Ppp with Params: {} returned 403 due to None\n",
      "HTTP Error for GET to https://api.spotify.com/v1/audio-features/?ids=3o3WFtmGrEslB0PnrRHqAz with Params: {} returned 403 due to None\n",
      "HTTP Error for GET to https://api.spotify.com/v1/audio-features/?ids=0otRX6Z89qKkHkQ9OqJpKt with Params: {} returned 403 due to None\n",
      "HTTP Error for GET to https://api.spotify.com/v1/audio-features/?ids=7JBbLp8TMvclsvzfBbbtLx with Params: {} returned 403 due to None\n",
      "HTTP Error for GET to https://api.spotify.com/v1/audio-features/?ids=1PvhE2XmxtUZOXc4fRwbUK with Params: {} returned 403 due to None\n",
      "HTTP Error for GET to https://api.spotify.com/v1/audio-features/?ids=3UmaczJpikHgJFyBTAJVoz with Params: {} returned 403 due to None\n",
      "HTTP Error for GET to https://api.spotify.com/v1/audio-features/?ids=3nOjFj0WWbsci9foo3o2tk with Params: {} returned 403 due to None\n",
      "HTTP Error for GET to https://api.spotify.com/v1/audio-features/?ids=7Jugt0G04zGKkzB9oh2rjO with Params: {} returned 403 due to None\n",
      "HTTP Error for GET to https://api.spotify.com/v1/audio-features/?ids=7129iqBafaphfc3WPCGC0L with Params: {} returned 403 due to None\n",
      "HTTP Error for GET to https://api.spotify.com/v1/audio-features/?ids=5hheGdf1cb4rK0FNiedCfK with Params: {} returned 403 due to None\n",
      "HTTP Error for GET to https://api.spotify.com/v1/audio-features/?ids=7zAt4tdL44D3VuzsvM0N8n with Params: {} returned 403 due to None\n",
      "HTTP Error for GET to https://api.spotify.com/v1/audio-features/?ids=512CUq2I5HagN8dtE5ekH5 with Params: {} returned 403 due to None\n",
      "HTTP Error for GET to https://api.spotify.com/v1/audio-features/?ids=2vGUmuGUjtUG7iM5yTHKkZ with Params: {} returned 403 due to None\n",
      "HTTP Error for GET to https://api.spotify.com/v1/audio-features/?ids=2aIB1CdRRG7YLBu9hNw9nR with Params: {} returned 403 due to None\n",
      "HTTP Error for GET to https://api.spotify.com/v1/audio-features/?ids=2UW5a8dLjIBLxULU1hPpsl with Params: {} returned 403 due to None\n",
      "HTTP Error for GET to https://api.spotify.com/v1/audio-features/?ids=1P4FdxMW67mPPbbM4FBhqR with Params: {} returned 403 due to None\n",
      "HTTP Error for GET to https://api.spotify.com/v1/audio-features/?ids=7pS3O75hJnthHr64tlpqPn with Params: {} returned 403 due to None\n",
      "HTTP Error for GET to https://api.spotify.com/v1/audio-features/?ids=7MOQrtXMNImAq5TrPZzC0w with Params: {} returned 403 due to None\n",
      "HTTP Error for GET to https://api.spotify.com/v1/audio-features/?ids=7Apo6o7oxgFyXaSmdx6NHN with Params: {} returned 403 due to None\n",
      "HTTP Error for GET to https://api.spotify.com/v1/audio-features/?ids=3gBzsI7YDTcvfTFCRHEuom with Params: {} returned 403 due to None\n",
      "HTTP Error for GET to https://api.spotify.com/v1/audio-features/?ids=6Nm8h73ycDG2saCnZV8poF with Params: {} returned 403 due to None\n",
      "HTTP Error for GET to https://api.spotify.com/v1/audio-features/?ids=5vQEfFaaFJLo03D92iwM9L with Params: {} returned 403 due to None\n",
      "HTTP Error for GET to https://api.spotify.com/v1/audio-features/?ids=3v40EzYff0Jy9lXxWmzeGG with Params: {} returned 403 due to None\n",
      "HTTP Error for GET to https://api.spotify.com/v1/audio-features/?ids=31FDPB097i0iqut2Bb056l with Params: {} returned 403 due to None\n",
      "HTTP Error for GET to https://api.spotify.com/v1/audio-features/?ids=2DlHlPMa4M17kufBvI2lEN with Params: {} returned 403 due to None\n",
      "HTTP Error for GET to https://api.spotify.com/v1/audio-features/?ids=0B9x2BRHqj3Qer7biM3pU3 with Params: {} returned 403 due to None\n",
      "HTTP Error for GET to https://api.spotify.com/v1/audio-features/?ids=3Th2of8xIYyImVLXUbzaTp with Params: {} returned 403 due to None\n",
      "HTTP Error for GET to https://api.spotify.com/v1/audio-features/?ids=5UddLzl21HRxhiVUAIAz9Y with Params: {} returned 403 due to None\n",
      "HTTP Error for GET to https://api.spotify.com/v1/audio-features/?ids=7guD52BYWJ9QGtYsdAUhNu with Params: {} returned 403 due to None\n",
      "HTTP Error for GET to https://api.spotify.com/v1/audio-features/?ids=5pFRXNz3kVfUS4d7QJXIsX with Params: {} returned 403 due to None\n",
      "HTTP Error for GET to https://api.spotify.com/v1/audio-features/?ids=0EYOdF5FCkgOJJla8DI2Md with Params: {} returned 403 due to None\n",
      "HTTP Error for GET to https://api.spotify.com/v1/audio-features/?ids=3hwtMoZGYylPlecZGAdW6y with Params: {} returned 403 due to None\n",
      "HTTP Error for GET to https://api.spotify.com/v1/audio-features/?ids=0WFatRyMXS4JVP9jSfO1Fe with Params: {} returned 403 due to None\n",
      "HTTP Error for GET to https://api.spotify.com/v1/audio-features/?ids=59Ak5o6MLJn2H5dpcYGXsH with Params: {} returned 403 due to None\n"
     ]
    },
    {
     "ename": "RuntimeError",
     "evalue": "❌ No se pudieron obtener canciones con audio features.",
     "output_type": "error",
     "traceback": [
      "\u001b[31m---------------------------------------------------------------------------\u001b[39m",
      "\u001b[31mRuntimeError\u001b[39m                              Traceback (most recent call last)",
      "\u001b[36mCell\u001b[39m\u001b[36m \u001b[39m\u001b[32mIn[6]\u001b[39m\u001b[32m, line 101\u001b[39m\n\u001b[32m     98\u001b[39m     df_tracks = get_valid_tracks(\u001b[33m\"\u001b[39m\u001b[33mtop\u001b[39m\u001b[33m\"\u001b[39m)\n\u001b[32m    100\u001b[39m \u001b[38;5;28;01mif\u001b[39;00m df_tracks.empty:\n\u001b[32m--> \u001b[39m\u001b[32m101\u001b[39m     \u001b[38;5;28;01mraise\u001b[39;00m \u001b[38;5;167;01mRuntimeError\u001b[39;00m(\u001b[33m\"\u001b[39m\u001b[33m❌ No se pudieron obtener canciones con audio features.\u001b[39m\u001b[33m\"\u001b[39m)\n\u001b[32m    103\u001b[39m \u001b[38;5;66;03m# --------------------------\u001b[39;00m\n\u001b[32m    104\u001b[39m \u001b[38;5;66;03m# 6. Mostrar resultados\u001b[39;00m\n\u001b[32m    105\u001b[39m \u001b[38;5;66;03m# --------------------------\u001b[39;00m\n\u001b[32m    106\u001b[39m \u001b[38;5;28mprint\u001b[39m(\u001b[33mf\u001b[39m\u001b[33m\"\u001b[39m\u001b[38;5;130;01m\\n\u001b[39;00m\u001b[33m✅ Canciones procesadas correctamente: \u001b[39m\u001b[38;5;132;01m{\u001b[39;00m\u001b[38;5;28mlen\u001b[39m(df_tracks)\u001b[38;5;132;01m}\u001b[39;00m\u001b[33m\"\u001b[39m)\n",
      "\u001b[31mRuntimeError\u001b[39m: ❌ No se pudieron obtener canciones con audio features."
     ]
    }
   ],
   "source": [
    "# ==========================================\n",
    "# 01_data_collection.ipynb\n",
    "# Proyecto: Mood vs Música 🎧\n",
    "# Autor: Eder Cabascango\n",
    "# ==========================================\n",
    "\n",
    "# --------------------------\n",
    "# 1. Librerías necesarias\n",
    "# --------------------------\n",
    "import os\n",
    "import pandas as pd\n",
    "import spotipy\n",
    "from spotipy.oauth2 import SpotifyOAuth\n",
    "from datetime import datetime\n",
    "from dotenv import load_dotenv\n",
    "\n",
    "# --------------------------\n",
    "# 2. Cargar credenciales del archivo .env\n",
    "# --------------------------\n",
    "env_path = r\"C:\\Users\\wladi\\Desktop\\Data Science\\Portafolio\\mood_music\\.env\"\n",
    "load_dotenv(dotenv_path=env_path, override=True)\n",
    "\n",
    "CLIENT_ID = os.getenv(\"SPOTIPY_CLIENT_ID\")\n",
    "CLIENT_SECRET = os.getenv(\"SPOTIPY_CLIENT_SECRET\")\n",
    "REDIRECT_URI = os.getenv(\"SPOTIPY_REDIRECT_URI\")\n",
    "\n",
    "if not CLIENT_ID or not CLIENT_SECRET:\n",
    "    raise ValueError(\"⚠️ No se encontraron las credenciales de Spotify. Verifica el archivo .env\")\n",
    "\n",
    "# --------------------------\n",
    "# 3. Autenticación con Spotify API\n",
    "# --------------------------\n",
    "scope = \"user-read-recently-played,user-top-read,user-read-playback-state\"\n",
    "\n",
    "sp = spotipy.Spotify(auth_manager=SpotifyOAuth(\n",
    "    client_id=CLIENT_ID,\n",
    "    client_secret=CLIENT_SECRET,\n",
    "    redirect_uri=REDIRECT_URI,\n",
    "    scope=scope\n",
    "))\n",
    "\n",
    "print(\"✅ Autenticado como:\", sp.current_user()[\"display_name\"])\n",
    "\n",
    "# --------------------------\n",
    "# 4. Función auxiliar para obtener canciones y filtrar válidas\n",
    "# --------------------------\n",
    "def get_valid_tracks(source=\"recently\", limit=50):\n",
    "    \"\"\"Obtiene canciones válidas (con audio features disponibles).\"\"\"\n",
    "    \n",
    "    if source == \"recently\":\n",
    "        results = sp.current_user_recently_played(limit=limit)\n",
    "        items = results[\"items\"]\n",
    "        print(f\"🎧 Canciones recientes encontradas: {len(items)}\")\n",
    "    else:\n",
    "        results = sp.current_user_top_tracks(limit=limit, time_range=\"medium_term\")\n",
    "        items = results[\"items\"]\n",
    "        print(f\"🔥 Canciones más escuchadas encontradas: {len(items)}\")\n",
    "\n",
    "    tracks_data = []\n",
    "    for item in items:\n",
    "        track = item[\"track\"] if source == \"recently\" else item\n",
    "\n",
    "        # Ignorar podcasts o canciones sin ID válido\n",
    "        if not track.get(\"id\"):\n",
    "            continue\n",
    "\n",
    "        try:\n",
    "            features = sp.audio_features(track[\"id\"])\n",
    "            if not features or not features[0]:\n",
    "                continue\n",
    "\n",
    "            f = features[0]\n",
    "            tracks_data.append({\n",
    "                \"source\": source,\n",
    "                \"played_at\": item[\"played_at\"] if source == \"recently\" else None,\n",
    "                \"date\": item[\"played_at\"][:10] if source == \"recently\" else None,\n",
    "                \"track_name\": track[\"name\"],\n",
    "                \"artist\": track[\"artists\"][0][\"name\"],\n",
    "                \"danceability\": f[\"danceability\"],\n",
    "                \"energy\": f[\"energy\"],\n",
    "                \"valence\": f[\"valence\"],\n",
    "                \"tempo\": f[\"tempo\"],\n",
    "                \"acousticness\": f[\"acousticness\"],\n",
    "                \"instrumentalness\": f[\"instrumentalness\"]\n",
    "            })\n",
    "        except spotipy.exceptions.SpotifyException:\n",
    "            continue\n",
    "\n",
    "    return pd.DataFrame(tracks_data)\n",
    "\n",
    "# --------------------------\n",
    "# 5. Intentar obtener canciones recientes primero\n",
    "# --------------------------\n",
    "df_tracks = get_valid_tracks(\"recently\")\n",
    "\n",
    "if df_tracks.empty:\n",
    "    print(\"⚠️ No se encontraron canciones recientes válidas. Probando con tus top tracks...\")\n",
    "    df_tracks = get_valid_tracks(\"top\")\n",
    "\n",
    "if df_tracks.empty:\n",
    "    raise RuntimeError(\"❌ No se pudieron obtener canciones con audio features.\")\n",
    "\n",
    "# --------------------------\n",
    "# 6. Mostrar resultados\n",
    "# --------------------------\n",
    "print(f\"\\n✅ Canciones procesadas correctamente: {len(df_tracks)}\")\n",
    "display(df_tracks.head())\n",
    "\n",
    "# --------------------------\n",
    "# 7. Guardar datos crudos\n",
    "# --------------------------\n",
    "os.makedirs(\"data/raw\", exist_ok=True)\n",
    "filename = f\"data/raw/spotify_tracks_{datetime.today().strftime('%Y%m%d')}.csv\"\n",
    "df_tracks.to_csv(filename, index=False, encoding=\"utf-8\")\n",
    "\n",
    "print(f\"💾 Archivo guardado en: {filename}\")\n",
    "print(\"🎵 Dataset listo para análisis.\")\n"
   ]
  },
  {
   "cell_type": "code",
   "execution_count": 7,
   "id": "19ea073d",
   "metadata": {},
   "outputs": [
    {
     "name": "stderr",
     "output_type": "stream",
     "text": [
      "HTTP Error for GET to https://api.spotify.com/v1/audio-features/?ids=0xMCEp7mK5B9lxYtY6yK1R with Params: {} returned 403 due to None\n"
     ]
    },
    {
     "ename": "SpotifyException",
     "evalue": "http status: 403, code: -1 - https://api.spotify.com/v1/audio-features/?ids=0xMCEp7mK5B9lxYtY6yK1R:\n None, reason: None",
     "output_type": "error",
     "traceback": [
      "\u001b[31m---------------------------------------------------------------------------\u001b[39m",
      "\u001b[31mHTTPError\u001b[39m                                 Traceback (most recent call last)",
      "\u001b[36mFile \u001b[39m\u001b[32mc:\\Users\\wladi\\Desktop\\Data Science\\Portafolio\\mood_music\\.venv\\Lib\\site-packages\\spotipy\\client.py:274\u001b[39m, in \u001b[36mSpotify._internal_call\u001b[39m\u001b[34m(self, method, url, payload, params)\u001b[39m\n\u001b[32m    269\u001b[39m response = \u001b[38;5;28mself\u001b[39m._session.request(\n\u001b[32m    270\u001b[39m     method, url, headers=headers, proxies=\u001b[38;5;28mself\u001b[39m.proxies,\n\u001b[32m    271\u001b[39m     timeout=\u001b[38;5;28mself\u001b[39m.requests_timeout, **args\n\u001b[32m    272\u001b[39m )\n\u001b[32m--> \u001b[39m\u001b[32m274\u001b[39m \u001b[43mresponse\u001b[49m\u001b[43m.\u001b[49m\u001b[43mraise_for_status\u001b[49m\u001b[43m(\u001b[49m\u001b[43m)\u001b[49m\n\u001b[32m    275\u001b[39m results = response.json()\n",
      "\u001b[36mFile \u001b[39m\u001b[32mc:\\Users\\wladi\\Desktop\\Data Science\\Portafolio\\mood_music\\.venv\\Lib\\site-packages\\requests\\models.py:1026\u001b[39m, in \u001b[36mResponse.raise_for_status\u001b[39m\u001b[34m(self)\u001b[39m\n\u001b[32m   1025\u001b[39m \u001b[38;5;28;01mif\u001b[39;00m http_error_msg:\n\u001b[32m-> \u001b[39m\u001b[32m1026\u001b[39m     \u001b[38;5;28;01mraise\u001b[39;00m HTTPError(http_error_msg, response=\u001b[38;5;28mself\u001b[39m)\n",
      "\u001b[31mHTTPError\u001b[39m: 403 Client Error: Forbidden for url: https://api.spotify.com/v1/audio-features/?ids=0xMCEp7mK5B9lxYtY6yK1R",
      "\nDuring handling of the above exception, another exception occurred:\n",
      "\u001b[31mSpotifyException\u001b[39m                          Traceback (most recent call last)",
      "\u001b[36mCell\u001b[39m\u001b[36m \u001b[39m\u001b[32mIn[7]\u001b[39m\u001b[32m, line 4\u001b[39m\n\u001b[32m      1\u001b[39m \u001b[38;5;66;03m# Prueba directa: Avenged Sevenfold - Hail to the King\u001b[39;00m\n\u001b[32m      2\u001b[39m test_id = \u001b[33m\"\u001b[39m\u001b[33m0xMCEp7mK5B9lxYtY6yK1R\u001b[39m\u001b[33m\"\u001b[39m  \u001b[38;5;66;03m# ID real de \"Hail to the King\"\u001b[39;00m\n\u001b[32m----> \u001b[39m\u001b[32m4\u001b[39m features = \u001b[43msp\u001b[49m\u001b[43m.\u001b[49m\u001b[43maudio_features\u001b[49m\u001b[43m(\u001b[49m\u001b[43mtest_id\u001b[49m\u001b[43m)\u001b[49m\n\u001b[32m      6\u001b[39m \u001b[38;5;28;01mif\u001b[39;00m features \u001b[38;5;129;01mand\u001b[39;00m features[\u001b[32m0\u001b[39m]:\n\u001b[32m      7\u001b[39m     \u001b[38;5;28mprint\u001b[39m(\u001b[33m\"\u001b[39m\u001b[33m✅ Audio features disponibles:\u001b[39m\u001b[33m\"\u001b[39m)\n",
      "\u001b[36mFile \u001b[39m\u001b[32mc:\\Users\\wladi\\Desktop\\Data Science\\Portafolio\\mood_music\\.venv\\Lib\\site-packages\\spotipy\\client.py:1799\u001b[39m, in \u001b[36mSpotify.audio_features\u001b[39m\u001b[34m(self, tracks)\u001b[39m\n\u001b[32m   1797\u001b[39m \u001b[38;5;28;01mif\u001b[39;00m \u001b[38;5;28misinstance\u001b[39m(tracks, \u001b[38;5;28mstr\u001b[39m):\n\u001b[32m   1798\u001b[39m     trackid = \u001b[38;5;28mself\u001b[39m._get_id(\u001b[33m\"\u001b[39m\u001b[33mtrack\u001b[39m\u001b[33m\"\u001b[39m, tracks)\n\u001b[32m-> \u001b[39m\u001b[32m1799\u001b[39m     results = \u001b[38;5;28;43mself\u001b[39;49m\u001b[43m.\u001b[49m\u001b[43m_get\u001b[49m\u001b[43m(\u001b[49m\u001b[33;43m\"\u001b[39;49m\u001b[33;43maudio-features/?ids=\u001b[39;49m\u001b[33;43m\"\u001b[39;49m\u001b[43m \u001b[49m\u001b[43m+\u001b[49m\u001b[43m \u001b[49m\u001b[43mtrackid\u001b[49m\u001b[43m)\u001b[49m\n\u001b[32m   1800\u001b[39m \u001b[38;5;28;01melse\u001b[39;00m:\n\u001b[32m   1801\u001b[39m     tlist = [\u001b[38;5;28mself\u001b[39m._get_id(\u001b[33m\"\u001b[39m\u001b[33mtrack\u001b[39m\u001b[33m\"\u001b[39m, t) \u001b[38;5;28;01mfor\u001b[39;00m t \u001b[38;5;129;01min\u001b[39;00m tracks]\n",
      "\u001b[36mFile \u001b[39m\u001b[32mc:\\Users\\wladi\\Desktop\\Data Science\\Portafolio\\mood_music\\.venv\\Lib\\site-packages\\spotipy\\client.py:324\u001b[39m, in \u001b[36mSpotify._get\u001b[39m\u001b[34m(self, url, args, payload, **kwargs)\u001b[39m\n\u001b[32m    321\u001b[39m \u001b[38;5;28;01mif\u001b[39;00m args:\n\u001b[32m    322\u001b[39m     kwargs.update(args)\n\u001b[32m--> \u001b[39m\u001b[32m324\u001b[39m \u001b[38;5;28;01mreturn\u001b[39;00m \u001b[38;5;28;43mself\u001b[39;49m\u001b[43m.\u001b[49m\u001b[43m_internal_call\u001b[49m\u001b[43m(\u001b[49m\u001b[33;43m\"\u001b[39;49m\u001b[33;43mGET\u001b[39;49m\u001b[33;43m\"\u001b[39;49m\u001b[43m,\u001b[49m\u001b[43m \u001b[49m\u001b[43murl\u001b[49m\u001b[43m,\u001b[49m\u001b[43m \u001b[49m\u001b[43mpayload\u001b[49m\u001b[43m,\u001b[49m\u001b[43m \u001b[49m\u001b[43mkwargs\u001b[49m\u001b[43m)\u001b[49m\n",
      "\u001b[36mFile \u001b[39m\u001b[32mc:\\Users\\wladi\\Desktop\\Data Science\\Portafolio\\mood_music\\.venv\\Lib\\site-packages\\spotipy\\client.py:294\u001b[39m, in \u001b[36mSpotify._internal_call\u001b[39m\u001b[34m(self, method, url, payload, params)\u001b[39m\n\u001b[32m    289\u001b[39m         reason = \u001b[38;5;28;01mNone\u001b[39;00m\n\u001b[32m    291\u001b[39m     logger.error(\u001b[33mf\u001b[39m\u001b[33m\"\u001b[39m\u001b[33mHTTP Error for \u001b[39m\u001b[38;5;132;01m{\u001b[39;00mmethod\u001b[38;5;132;01m}\u001b[39;00m\u001b[33m to \u001b[39m\u001b[38;5;132;01m{\u001b[39;00murl\u001b[38;5;132;01m}\u001b[39;00m\u001b[33m with Params: \u001b[39m\u001b[33m\"\u001b[39m\n\u001b[32m    292\u001b[39m                  \u001b[33mf\u001b[39m\u001b[33m\"\u001b[39m\u001b[38;5;132;01m{\u001b[39;00margs.get(\u001b[33m'\u001b[39m\u001b[33mparams\u001b[39m\u001b[33m'\u001b[39m)\u001b[38;5;132;01m}\u001b[39;00m\u001b[33m returned \u001b[39m\u001b[38;5;132;01m{\u001b[39;00mresponse.status_code\u001b[38;5;132;01m}\u001b[39;00m\u001b[33m due to \u001b[39m\u001b[38;5;132;01m{\u001b[39;00mmsg\u001b[38;5;132;01m}\u001b[39;00m\u001b[33m\"\u001b[39m)\n\u001b[32m--> \u001b[39m\u001b[32m294\u001b[39m     \u001b[38;5;28;01mraise\u001b[39;00m SpotifyException(\n\u001b[32m    295\u001b[39m         response.status_code,\n\u001b[32m    296\u001b[39m         -\u001b[32m1\u001b[39m,\n\u001b[32m    297\u001b[39m         \u001b[33mf\u001b[39m\u001b[33m\"\u001b[39m\u001b[38;5;132;01m{\u001b[39;00mresponse.url\u001b[38;5;132;01m}\u001b[39;00m\u001b[33m:\u001b[39m\u001b[38;5;130;01m\\n\u001b[39;00m\u001b[33m \u001b[39m\u001b[38;5;132;01m{\u001b[39;00mmsg\u001b[38;5;132;01m}\u001b[39;00m\u001b[33m\"\u001b[39m,\n\u001b[32m    298\u001b[39m         reason=reason,\n\u001b[32m    299\u001b[39m         headers=response.headers,\n\u001b[32m    300\u001b[39m     )\n\u001b[32m    301\u001b[39m \u001b[38;5;28;01mexcept\u001b[39;00m requests.exceptions.RetryError \u001b[38;5;28;01mas\u001b[39;00m retry_error:\n\u001b[32m    302\u001b[39m     request = retry_error.request\n",
      "\u001b[31mSpotifyException\u001b[39m: http status: 403, code: -1 - https://api.spotify.com/v1/audio-features/?ids=0xMCEp7mK5B9lxYtY6yK1R:\n None, reason: None"
     ]
    }
   ],
   "source": [
    "# Prueba directa: Avenged Sevenfold - Hail to the King\n",
    "test_id = \"0xMCEp7mK5B9lxYtY6yK1R\"  # ID real de \"Hail to the King\"\n",
    "\n",
    "features = sp.audio_features(test_id)\n",
    "\n",
    "if features and features[0]:\n",
    "    print(\"✅ Audio features disponibles:\")\n",
    "    display(pd.DataFrame(features))\n",
    "else:\n",
    "    print(\"❌ No se pudieron obtener las características de la canción.\")\n"
   ]
  }
 ],
 "metadata": {
  "kernelspec": {
   "display_name": ".venv",
   "language": "python",
   "name": "python3"
  },
  "language_info": {
   "codemirror_mode": {
    "name": "ipython",
    "version": 3
   },
   "file_extension": ".py",
   "mimetype": "text/x-python",
   "name": "python",
   "nbconvert_exporter": "python",
   "pygments_lexer": "ipython3",
   "version": "3.11.13"
  }
 },
 "nbformat": 4,
 "nbformat_minor": 5
}
